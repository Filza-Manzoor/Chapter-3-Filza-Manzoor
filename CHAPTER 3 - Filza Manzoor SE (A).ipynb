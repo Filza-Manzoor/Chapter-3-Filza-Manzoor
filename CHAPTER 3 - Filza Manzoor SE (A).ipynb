{
 "cells": [
  {
   "cell_type": "markdown",
   "metadata": {},
   "source": [
    "# Practice Problems\n",
    "# 3.1"
   ]
  },
  {
   "cell_type": "markdown",
   "metadata": {},
   "source": [
    "Implement a program that requests the current temperature in degrees Fahrenheit from the\n",
    "user and prints the temperature in degrees Celsius"
   ]
  },
  {
   "cell_type": "code",
   "execution_count": 1,
   "metadata": {},
   "outputs": [
    {
     "name": "stdout",
     "output_type": "stream",
     "text": [
      "Converting degree  Fahrenheit to Centigrade\n",
      "Enter temperature : 30\n",
      "111.60000000000001\n"
     ]
    }
   ],
   "source": [
    "print(\"Converting degree  Fahrenheit to Centigrade\")\n",
    "cent= float(input(\"Enter temperature : \"))\n",
    "fah=((cent+32)*(9/5))\n",
    "print(fah)"
   ]
  },
  {
   "cell_type": "markdown",
   "metadata": {},
   "source": [
    "# 3.2"
   ]
  },
  {
   "cell_type": "markdown",
   "metadata": {},
   "source": [
    "Translate these conditional statements into Python if statements:\n"
   ]
  },
  {
   "cell_type": "markdown",
   "metadata": {},
   "source": [
    "### (a) If age is greater 62, print 'You can get your pension benefits'"
   ]
  },
  {
   "cell_type": "code",
   "execution_count": 2,
   "metadata": {},
   "outputs": [
    {
     "name": "stdout",
     "output_type": "stream",
     "text": [
      "Enter your age: 18\n",
      "You are not eligible!\n"
     ]
    }
   ],
   "source": [
    "age=int(input(\"Enter your age: \"))\n",
    "if age> 62:\n",
    "    print(\"'You can get your pension benefits'\")\n",
    "else:\n",
    "    print(\"You are not eligible!\")"
   ]
  },
  {
   "cell_type": "markdown",
   "metadata": {},
   "source": [
    "### (b) If name is in list ['Musial', 'Aaraon', 'Williams', 'Gehrig', 'Ruth'], print 'One of the top 5 baseball players, ever!'.\n"
   ]
  },
  {
   "cell_type": "code",
   "execution_count": 3,
   "metadata": {},
   "outputs": [
    {
     "name": "stdout",
     "output_type": "stream",
     "text": [
      "Who is your favourite baseball Player? \n",
      "Enter name: Aaraon\n",
      " 'One of the top 5 baseball players, ever!'\n"
     ]
    }
   ],
   "source": [
    "name=input(\"Who is your favourite baseball Player? \\nEnter name: \")\n",
    "lst=['Musial', 'Aaraon', 'Williams', 'Gehrig', 'Ruth']\n",
    "if name in lst:\n",
    "    print(\" 'One of the top 5 baseball players, ever!'\")\n",
    "else: \n",
    "    print(\"Good choice!\")"
   ]
  },
  {
   "cell_type": "markdown",
   "metadata": {},
   "source": [
    "### (c) If hits is greater than 10 and shield is 0, print 'You are dead...'.\n",
    " "
   ]
  },
  {
   "cell_type": "code",
   "execution_count": 4,
   "metadata": {},
   "outputs": [
    {
     "name": "stdout",
     "output_type": "stream",
     "text": [
      "You are dead...\n"
     ]
    }
   ],
   "source": [
    "hits=12\n",
    "shield=0\n",
    "if hits > 10 and shield is 0:\n",
    "    print ('You are dead...')"
   ]
  },
  {
   "cell_type": "markdown",
   "metadata": {},
   "source": [
    "### (d) If at least one of the Boolean variables north, south, east, and west is True, print 'I can escape.'.  "
   ]
  },
  {
   "cell_type": "code",
   "execution_count": 5,
   "metadata": {},
   "outputs": [
    {
     "name": "stdout",
     "output_type": "stream",
     "text": [
      "I can escape\n"
     ]
    }
   ],
   "source": [
    "variable = 'north','south','east','west'\n",
    "north = True\n",
    "south = True\n",
    "east = False\n",
    "west = True\n",
    "\n",
    "\n",
    "\n",
    "if any([False, False, True, False]):\n",
    "    print('I can escape')"
   ]
  },
  {
   "cell_type": "markdown",
   "metadata": {},
   "source": [
    "# 3.3\n",
    "Translate these into Python if/else statements:"
   ]
  },
  {
   "cell_type": "markdown",
   "metadata": {},
   "source": [
    "### (a) If year is divisible by 4, print 'Could be a leap year.'; otherwise print 'Definitely not a leap year.'\n",
    " "
   ]
  },
  {
   "cell_type": "code",
   "execution_count": 6,
   "metadata": {},
   "outputs": [
    {
     "name": "stdout",
     "output_type": "stream",
     "text": [
      "Enter a year: 2019\n",
      "2019 is not a leap year\n"
     ]
    }
   ],
   "source": [
    "#(a)\n",
    "year = int(input(\"Enter a year: \"))\n",
    "\n",
    "if (year % 4) == 0:\n",
    "   if (year % 100) == 0:\n",
    "       if (year % 400) == 0:\n",
    "           print(\"{0} is a leap year\".format(year))\n",
    "       else:\n",
    "           print(\"{0} is not a leap year\".format(year))\n",
    "   else:\n",
    "       print(\"{0} is a leap year\".format(year))\n",
    "else:\n",
    "   print(\"{0} is not a leap year\".format(year))"
   ]
  },
  {
   "cell_type": "markdown",
   "metadata": {},
   "source": [
    "### (b) If list ticket is equal to list lottery, print 'You won!'; else print 'Better luck next time...'\n"
   ]
  },
  {
   "cell_type": "code",
   "execution_count": 7,
   "metadata": {},
   "outputs": [
    {
     "name": "stdout",
     "output_type": "stream",
     "text": [
      "Better luck next time...\n"
     ]
    }
   ],
   "source": [
    "#(b)\n",
    "ticket=[109845]\n",
    "lottery=[109854]\n",
    "if ticket == lottery:\n",
    "    print('You won!')\n",
    "else:\n",
    "    print ('Better luck next time...')"
   ]
  },
  {
   "cell_type": "markdown",
   "metadata": {},
   "source": [
    "# 3.4\n",
    "Implement a program that starts by asking the user to enter a login id (i.e., a string). The\n",
    "program then checks whether the id entered by the user is in the list ['joe', 'sue',\n",
    "'hani', 'sophie'] of valid users. Depending on the outcome, an appropriate message\n",
    "should be printed. Regardless of the outcome, your function should print 'Done.' before\n",
    "terminating. Here is an example of a successful login:\n"
   ]
  },
  {
   "cell_type": "code",
   "execution_count": 8,
   "metadata": {},
   "outputs": [
    {
     "name": "stdout",
     "output_type": "stream",
     "text": [
      "Ënter your username: sophie\n",
      "You are in!\n",
      "Done.\n"
     ]
    }
   ],
   "source": [
    "id_log= input(\"Ënter your username: \")\n",
    "user_id= ['joe', 'sue','hani', 'sophie']\n",
    "if id_log in user_id:\n",
    "    print(\"You are in!\\n\"+\"Done.\")\n",
    "else:\n",
    "    print(\"User Unknown\\n\"+\"Done.\")"
   ]
  },
  {
   "cell_type": "markdown",
   "metadata": {},
   "source": [
    "# 3.5\n",
    "Implement a program that requests from the user a list of words (i.e., strings) and then prints\n",
    "on the screen, one per line, all four-letter strings in the list."
   ]
  },
  {
   "cell_type": "code",
   "execution_count": 9,
   "metadata": {},
   "outputs": [
    {
     "name": "stdout",
     "output_type": "stream",
     "text": [
      "Enter 4-letter words : 'fork','cement','chair','soap'\n",
      "fork\n",
      "soap\n"
     ]
    }
   ],
   "source": [
    "n = eval(input(\"Enter 4-letter words : \")) \n",
    "  \n",
    "# iterating till the range \n",
    "for word in n:\n",
    "    if len(word)==4:\n",
    "        print (word)\n",
    "        "
   ]
  },
  {
   "cell_type": "markdown",
   "metadata": {},
   "source": [
    "# 3.6\n",
    "Write the for loop that will print these sequences of numbers, one per line, in the interactive\n",
    "shell."
   ]
  },
  {
   "cell_type": "markdown",
   "metadata": {},
   "source": [
    "### (a) Integers from 0 to 9 (i.e., 0, 1, 2, 3, 4, 5, 6, 7, 8, 9)\n"
   ]
  },
  {
   "cell_type": "code",
   "execution_count": 10,
   "metadata": {},
   "outputs": [
    {
     "name": "stdout",
     "output_type": "stream",
     "text": [
      "0\n",
      "1\n",
      "2\n",
      "3\n",
      "4\n",
      "5\n",
      "6\n",
      "7\n",
      "8\n",
      "9\n"
     ]
    }
   ],
   "source": [
    "num=[0, 1, 2, 3, 4, 5, 6, 7, 8, 9]\n",
    "for number in num:\n",
    "    print (number)"
   ]
  },
  {
   "cell_type": "markdown",
   "metadata": {},
   "source": [
    "### (b) Integers from 0 to 1 (i.e., 0, 1)\n"
   ]
  },
  {
   "cell_type": "code",
   "execution_count": 11,
   "metadata": {
    "scrolled": true
   },
   "outputs": [
    {
     "name": "stdout",
     "output_type": "stream",
     "text": [
      "0\n",
      "1\n"
     ]
    }
   ],
   "source": [
    "num=[0, 1]\n",
    "for number in num:\n",
    "    print (number)"
   ]
  },
  {
   "cell_type": "markdown",
   "metadata": {},
   "source": [
    "# 3.7\n",
    "Write the for loop that will print the following sequences of numbers, one per line."
   ]
  },
  {
   "cell_type": "markdown",
   "metadata": {},
   "source": [
    "### (a) Integers from 3 up to and including 12"
   ]
  },
  {
   "cell_type": "code",
   "execution_count": 12,
   "metadata": {},
   "outputs": [
    {
     "name": "stdout",
     "output_type": "stream",
     "text": [
      "3\n",
      "4\n",
      "5\n",
      "6\n",
      "7\n",
      "8\n",
      "9\n",
      "10\n",
      "11\n",
      "12\n"
     ]
    }
   ],
   "source": [
    "num=[0, 1, 2, 3, 4, 5, 6, 7, 8, 9,10,11,12]\n",
    "for number in num[3:]:\n",
    "    print (number)"
   ]
  },
  {
   "cell_type": "markdown",
   "metadata": {},
   "source": [
    "### (b) Integers from 0 up to but not including 9, but with a step of 2 instead of the default of 1 (i.e., 0, 2, 4, 6, 8)"
   ]
  },
  {
   "cell_type": "code",
   "execution_count": 13,
   "metadata": {},
   "outputs": [
    {
     "name": "stdout",
     "output_type": "stream",
     "text": [
      "0\n",
      "2\n",
      "4\n",
      "6\n",
      "8\n"
     ]
    }
   ],
   "source": [
    "num=[0, 1, 2, 3, 4, 5, 6, 7, 8, 9,10,11,12]\n",
    "for number in range(0,10,2):\n",
    "        print (number)\n",
    "    "
   ]
  },
  {
   "cell_type": "markdown",
   "metadata": {},
   "source": [
    "### (c) Integers from 0 up to but not including 24 with a step of 3\n"
   ]
  },
  {
   "cell_type": "code",
   "execution_count": 14,
   "metadata": {},
   "outputs": [
    {
     "name": "stdout",
     "output_type": "stream",
     "text": [
      "0\n",
      "3\n",
      "6\n",
      "9\n",
      "12\n",
      "15\n",
      "18\n",
      "21\n"
     ]
    }
   ],
   "source": [
    "num=[0, 1, 2, 3, 4, 5, 6, 7, 8, 9,10,11,12,13,14,15,16,17,18,19,20,21,22,23,24,25]\n",
    "for number in range(0,23,3):\n",
    "        print (number)"
   ]
  },
  {
   "cell_type": "markdown",
   "metadata": {},
   "source": [
    "### (d) Integers from 3 up to but not including 12 with a step of 5"
   ]
  },
  {
   "cell_type": "code",
   "execution_count": 15,
   "metadata": {},
   "outputs": [
    {
     "name": "stdout",
     "output_type": "stream",
     "text": [
      "3\n",
      "8\n"
     ]
    }
   ],
   "source": [
    "num=[0, 1, 2, 3, 4, 5, 6, 7, 8, 9,10,11,12]\n",
    "for number in range(3,11,5):\n",
    "        print (number)"
   ]
  },
  {
   "cell_type": "markdown",
   "metadata": {},
   "source": [
    "# 3.8\n",
    "Define, directly in the interactive shell, function perimeter() that takes, as input, the radius of a circle (a nonnegative number) and returns the perimeter of the circle. A sample\n",
    "usage is"
   ]
  },
  {
   "cell_type": "code",
   "execution_count": 16,
   "metadata": {},
   "outputs": [
    {
     "name": "stdout",
     "output_type": "stream",
     "text": [
      "Enter radius of the circle: 5\n",
      "The perimeter of the circle is:  31 cm\n"
     ]
    }
   ],
   "source": [
    "def function():\n",
    "    r=float(input(\"Enter radius of the circle: \"))\n",
    "    from math import pi\n",
    "    perimeter=int(2*pi*r)\n",
    "    print(\"The perimeter of the circle is: \", perimeter, \"cm\")\n",
    "function()"
   ]
  },
  {
   "cell_type": "markdown",
   "metadata": {},
   "source": [
    "# 3.9\n",
    "Implement function average() that takes two numbers as input and returns the average of\n",
    "the numbers."
   ]
  },
  {
   "cell_type": "code",
   "execution_count": 17,
   "metadata": {},
   "outputs": [
    {
     "name": "stdout",
     "output_type": "stream",
     "text": [
      "Enter first number: 5\n",
      "Enter second number: 4\n",
      "4.5\n"
     ]
    }
   ],
   "source": [
    "def average():\n",
    "    '''average(x,y) returns the sum of two arguments x and y'''\n",
    "    num1=int(input(\"Enter first number: \"))\n",
    "    num2=int(input(\"Enter second number: \"))\n",
    "    print((num1+num2)/2)\n",
    "average()"
   ]
  },
  {
   "cell_type": "markdown",
   "metadata": {},
   "source": [
    "# 3.10\n",
    "Implement function noVowel() that takes a string s as input and returns True if no character in s is a vowel, and False otherwise (i.e., some character in s is a vowel)."
   ]
  },
  {
   "cell_type": "code",
   "execution_count": 18,
   "metadata": {},
   "outputs": [
    {
     "name": "stdout",
     "output_type": "stream",
     "text": [
      "Enter a word: Ebola\n"
     ]
    },
    {
     "data": {
      "text/plain": [
       "False"
      ]
     },
     "execution_count": 18,
     "metadata": {},
     "output_type": "execute_result"
    }
   ],
   "source": [
    "def novowel():\n",
    "    s=str(input(\"Enter a word: \"))\n",
    "    s.split()\n",
    "    for i in s:\n",
    "        if i in 'aeiouAEIOU':\n",
    "            return False\n",
    "            \n",
    "        else:\n",
    "            return True\n",
    "        \n",
    "novowel()"
   ]
  },
  {
   "cell_type": "markdown",
   "metadata": {},
   "source": [
    "# 3.11\n",
    "Implement function allEven() that takes a list of integers and returns True if all integers\n",
    "in the list are even, and False otherwise."
   ]
  },
  {
   "cell_type": "code",
   "execution_count": 20,
   "metadata": {},
   "outputs": [
    {
     "name": "stdout",
     "output_type": "stream",
     "text": [
      "Enter a list of numbers: 2,4,6,8\n"
     ]
    },
    {
     "data": {
      "text/plain": [
       "True"
      ]
     },
     "execution_count": 20,
     "metadata": {},
     "output_type": "execute_result"
    }
   ],
   "source": [
    "def allEven():\n",
    "    num=eval(input(\"Enter a list of numbers: \"))\n",
    "    for i in num:\n",
    "        if i % 2 != 0:\n",
    "            return False\n",
    "        else:\n",
    "            return True\n",
    "allEven()       "
   ]
  },
  {
   "cell_type": "markdown",
   "metadata": {},
   "source": [
    "# 3.12\n",
    "Write function negatives() that takes a list as input and prints, one per line, the negative\n",
    "values in the list. The function should not return anything.\n"
   ]
  },
  {
   "cell_type": "code",
   "execution_count": 21,
   "metadata": {},
   "outputs": [
    {
     "name": "stdout",
     "output_type": "stream",
     "text": [
      "-1\n",
      "-3\n",
      "-9\n"
     ]
    }
   ],
   "source": [
    "def negatives():\n",
    "    ''' negatives() gives out only those from the list that are less than 0/ negative integers.'''\n",
    "    nums=[4, 0, -1, -3, 6, -9]\n",
    "    for i in nums:\n",
    "        if i<0:\n",
    "            print(i) \n",
    "negatives()"
   ]
  },
  {
   "cell_type": "markdown",
   "metadata": {},
   "source": [
    "# 3.13\n",
    "Add appropriate docstrings to functions average() and negatives() from Practice Problems 3.9 and 3.12. Check your work using the help() documentation tool. \n"
   ]
  },
  {
   "cell_type": "code",
   "execution_count": 22,
   "metadata": {
    "scrolled": true
   },
   "outputs": [
    {
     "name": "stdout",
     "output_type": "stream",
     "text": [
      "Help on function average in module __main__:\n",
      "\n",
      "average()\n",
      "    average(x,y) returns the sum of two arguments x and y\n",
      "\n",
      "Help on function negatives in module __main__:\n",
      "\n",
      "negatives()\n",
      "    negatives() gives out only those from the list that are less than 0/ negative integers.\n",
      "\n"
     ]
    }
   ],
   "source": [
    "help(average)\n",
    "help(negatives)"
   ]
  },
  {
   "cell_type": "markdown",
   "metadata": {},
   "source": [
    "# 3.14\n",
    "Draw a diagram representing the state of names and objects after this execution:\n"
   ]
  },
  {
   "cell_type": "markdown",
   "metadata": {},
   "source": [
    "# 3.15\n",
    "Suppose a nonempty list team has been assigned. Write a Python statement or statements\n",
    "that swap the first and last value of the list. So, if the original list is:"
   ]
  },
  {
   "cell_type": "code",
   "execution_count": 23,
   "metadata": {},
   "outputs": [
    {
     "name": "stdout",
     "output_type": "stream",
     "text": [
      "['buttercup', 'vanilla', 'strawberry', 'chocolate']\n"
     ]
    }
   ],
   "source": [
    " def cookies():\n",
    "    cookies = ['chocolate', 'vanilla', 'strawberry', 'buttercup']\n",
    "    cookies[0],cookies[-1]=cookies[-1],cookies[0]\n",
    "    print(cookies)\n",
    "cookies()"
   ]
  },
  {
   "cell_type": "markdown",
   "metadata": {},
   "source": [
    "# 3.16\n",
    "Implement function swapFL() that takes a list as input and swaps the first and last elements of the list. You may assume the list will be nonempty. The function should not return\n",
    "anything."
   ]
  },
  {
   "cell_type": "code",
   "execution_count": 24,
   "metadata": {},
   "outputs": [
    {
     "name": "stdout",
     "output_type": "stream",
     "text": [
      "['apples', 'sugar', 'butter', 'flour']\n"
     ]
    }
   ],
   "source": [
    "def swapFL():\n",
    "    ingredients = ['flour', 'sugar', 'butter', 'apples']\n",
    "    ingredients[0] , ingredients[-1] =  ingredients[-1],ingredients[0]\n",
    "    print(ingredients)\n",
    "swapFL()"
   ]
  },
  {
   "cell_type": "markdown",
   "metadata": {},
   "source": [
    "# Exercises"
   ]
  },
  {
   "cell_type": "markdown",
   "metadata": {},
   "source": [
    "# 3.17\n",
    "3.17 Use the eval() function to evaluate these strings as Python expressions:\n"
   ]
  },
  {
   "cell_type": "markdown",
   "metadata": {},
   "source": [
    "### (a) '2 * 3 + 1'\n"
   ]
  },
  {
   "cell_type": "code",
   "execution_count": 25,
   "metadata": {},
   "outputs": [
    {
     "data": {
      "text/plain": [
       "7"
      ]
     },
     "execution_count": 25,
     "metadata": {},
     "output_type": "execute_result"
    }
   ],
   "source": [
    "num=eval('2 * 3 + 1')\n",
    "num"
   ]
  },
  {
   "cell_type": "markdown",
   "metadata": {},
   "source": [
    "### (b) 'hello'\n"
   ]
  },
  {
   "cell_type": "code",
   "execution_count": 26,
   "metadata": {},
   "outputs": [
    {
     "ename": "NameError",
     "evalue": "name 'hello' is not defined",
     "output_type": "error",
     "traceback": [
      "\u001b[1;31m---------------------------------------------------------------------------\u001b[0m",
      "\u001b[1;31mNameError\u001b[0m                                 Traceback (most recent call last)",
      "\u001b[1;32m<ipython-input-26-a6cfe9544f5a>\u001b[0m in \u001b[0;36m<module>\u001b[1;34m\u001b[0m\n\u001b[1;32m----> 1\u001b[1;33m \u001b[0mnum\u001b[0m\u001b[1;33m=\u001b[0m\u001b[0meval\u001b[0m\u001b[1;33m(\u001b[0m\u001b[1;34m'hello'\u001b[0m\u001b[1;33m)\u001b[0m\u001b[1;33m\u001b[0m\u001b[1;33m\u001b[0m\u001b[0m\n\u001b[0m\u001b[0;32m      2\u001b[0m \u001b[0mnum\u001b[0m\u001b[1;33m\u001b[0m\u001b[1;33m\u001b[0m\u001b[0m\n",
      "\u001b[1;32m<string>\u001b[0m in \u001b[0;36m<module>\u001b[1;34m\u001b[0m\n",
      "\u001b[1;31mNameError\u001b[0m: name 'hello' is not defined"
     ]
    }
   ],
   "source": [
    "num=eval('hello')\n",
    "num"
   ]
  },
  {
   "cell_type": "markdown",
   "metadata": {},
   "source": [
    "### (c) \"'hello' + ' ' + 'world!'\"\n"
   ]
  },
  {
   "cell_type": "code",
   "execution_count": 27,
   "metadata": {
    "scrolled": true
   },
   "outputs": [
    {
     "ename": "SyntaxError",
     "evalue": "invalid syntax (<string>, line 1)",
     "output_type": "error",
     "traceback": [
      "Traceback \u001b[1;36m(most recent call last)\u001b[0m:\n",
      "  File \u001b[0;32m\"C:\\Users\\Rafia\\Anaconda3\\lib\\site-packages\\IPython\\core\\interactiveshell.py\"\u001b[0m, line \u001b[0;32m3325\u001b[0m, in \u001b[0;35mrun_code\u001b[0m\n    exec(code_obj, self.user_global_ns, self.user_ns)\n",
      "\u001b[1;36m  File \u001b[1;32m\"<ipython-input-27-d2b29eb18f47>\"\u001b[1;36m, line \u001b[1;32m1\u001b[1;36m, in \u001b[1;35m<module>\u001b[1;36m\u001b[0m\n\u001b[1;33m    num=eval('''hello' + ' ' + 'world!''')\u001b[0m\n",
      "\u001b[1;36m  File \u001b[1;32m\"<string>\"\u001b[1;36m, line \u001b[1;32m1\u001b[0m\n\u001b[1;33m    hello' + ' ' + 'world!\u001b[0m\n\u001b[1;37m             ^\u001b[0m\n\u001b[1;31mSyntaxError\u001b[0m\u001b[1;31m:\u001b[0m invalid syntax\n"
     ]
    }
   ],
   "source": [
    "num=eval('''hello' + ' ' + 'world!''')\n",
    "num"
   ]
  },
  {
   "cell_type": "markdown",
   "metadata": {},
   "source": [
    "### (d) \"'ASCII'.count('I')\"\n"
   ]
  },
  {
   "cell_type": "code",
   "execution_count": 28,
   "metadata": {},
   "outputs": [
    {
     "ename": "SyntaxError",
     "evalue": "invalid syntax (<ipython-input-28-6d5aaa14caff>, line 1)",
     "output_type": "error",
     "traceback": [
      "\u001b[1;36m  File \u001b[1;32m\"<ipython-input-28-6d5aaa14caff>\"\u001b[1;36m, line \u001b[1;32m1\u001b[0m\n\u001b[1;33m    num=eval(ASCII'.count('I'))\u001b[0m\n\u001b[1;37m                          ^\u001b[0m\n\u001b[1;31mSyntaxError\u001b[0m\u001b[1;31m:\u001b[0m invalid syntax\n"
     ]
    }
   ],
   "source": [
    "num=eval(ASCII'.count('I'))\n",
    "num"
   ]
  },
  {
   "cell_type": "markdown",
   "metadata": {},
   "source": [
    "### (e) 'x = 5' "
   ]
  },
  {
   "cell_type": "code",
   "execution_count": 29,
   "metadata": {
    "scrolled": false
   },
   "outputs": [
    {
     "ename": "TypeError",
     "evalue": "eval() takes no keyword arguments",
     "output_type": "error",
     "traceback": [
      "\u001b[1;31m---------------------------------------------------------------------------\u001b[0m",
      "\u001b[1;31mTypeError\u001b[0m                                 Traceback (most recent call last)",
      "\u001b[1;32m<ipython-input-29-28054a9166cc>\u001b[0m in \u001b[0;36m<module>\u001b[1;34m\u001b[0m\n\u001b[1;32m----> 1\u001b[1;33m \u001b[0mnum\u001b[0m\u001b[1;33m=\u001b[0m\u001b[0meval\u001b[0m\u001b[1;33m(\u001b[0m\u001b[0mx\u001b[0m\u001b[1;33m=\u001b[0m\u001b[1;36m5\u001b[0m\u001b[1;33m)\u001b[0m\u001b[1;33m\u001b[0m\u001b[1;33m\u001b[0m\u001b[0m\n\u001b[0m\u001b[0;32m      2\u001b[0m \u001b[0mnum\u001b[0m\u001b[1;33m\u001b[0m\u001b[1;33m\u001b[0m\u001b[0m\n",
      "\u001b[1;31mTypeError\u001b[0m: eval() takes no keyword arguments"
     ]
    }
   ],
   "source": [
    "num=eval(x=5)\n",
    "num"
   ]
  },
  {
   "cell_type": "markdown",
   "metadata": {},
   "source": [
    "# 3.17 REASIONING:"
   ]
  },
  {
   "cell_type": "markdown",
   "metadata": {},
   "source": [
    "ERRORS:\n",
    "   The error in (b),(c),(d) and (e) part of 3.17 is because the eval function is used oto convert strings into expressions."
   ]
  },
  {
   "cell_type": "markdown",
   "metadata": {},
   "source": [
    "# 3.18 \n"
   ]
  },
  {
   "cell_type": "markdown",
   "metadata": {},
   "source": [
    "### (a) a is less than b."
   ]
  },
  {
   "cell_type": "code",
   "execution_count": 30,
   "metadata": {},
   "outputs": [
    {
     "data": {
      "text/plain": [
       "True"
      ]
     },
     "execution_count": 30,
     "metadata": {},
     "output_type": "execute_result"
    }
   ],
   "source": [
    "a,b,c= 3,4,5\n",
    "a<b\n"
   ]
  },
  {
   "cell_type": "markdown",
   "metadata": {},
   "source": [
    "### (b) c is less than b.\n"
   ]
  },
  {
   "cell_type": "code",
   "execution_count": 31,
   "metadata": {},
   "outputs": [
    {
     "name": "stdout",
     "output_type": "stream",
     "text": [
      "OK\n"
     ]
    }
   ],
   "source": [
    "c<b\n",
    "if c<b:\n",
    "     False\n",
    "print('OK')"
   ]
  },
  {
   "cell_type": "markdown",
   "metadata": {},
   "source": [
    "### (c) The sum of a and b is equal to c.\n"
   ]
  },
  {
   "cell_type": "code",
   "execution_count": 32,
   "metadata": {},
   "outputs": [
    {
     "name": "stdout",
     "output_type": "stream",
     "text": [
      "OK\n"
     ]
    }
   ],
   "source": [
    "a+b == c\n",
    "if c<b:\n",
    "     False\n",
    "print('OK')"
   ]
  },
  {
   "cell_type": "markdown",
   "metadata": {},
   "source": [
    "### (d) The sum of the squares a and b is equal to c squared."
   ]
  },
  {
   "cell_type": "code",
   "execution_count": 33,
   "metadata": {},
   "outputs": [
    {
     "name": "stdout",
     "output_type": "stream",
     "text": [
      "OK\n"
     ]
    }
   ],
   "source": [
    "a**2 + b**2 == c**2\n",
    "if c<b:\n",
    "     False\n",
    "print('OK')"
   ]
  },
  {
   "cell_type": "markdown",
   "metadata": {},
   "source": [
    "# 3.19\n",
    "Repeat the previous problem with the additional requirement that 'NOT OK' is printed\n",
    "if the condition is false."
   ]
  },
  {
   "cell_type": "code",
   "execution_count": 34,
   "metadata": {},
   "outputs": [
    {
     "name": "stdout",
     "output_type": "stream",
     "text": [
      "NOT OK\n"
     ]
    }
   ],
   "source": [
    "c<b\n",
    "if c<b:\n",
    "     False\n",
    "print('NOT OK')\n",
    "    "
   ]
  },
  {
   "cell_type": "code",
   "execution_count": 35,
   "metadata": {},
   "outputs": [
    {
     "name": "stdout",
     "output_type": "stream",
     "text": [
      "NOT OK\n"
     ]
    }
   ],
   "source": [
    "a+b == c\n",
    "if a+b == c:\n",
    "     False\n",
    "print('NOT OK')"
   ]
  },
  {
   "cell_type": "markdown",
   "metadata": {},
   "source": [
    "# 3.20\n",
    "Write a for loop that iterates over a list of strings lst and prints the first three characters of every word. If lst is the list ['January', 'February', 'March'] then the\n",
    "following should be printed:\n",
    "Jan\n",
    "Feb\n",
    "Mar"
   ]
  },
  {
   "cell_type": "code",
   "execution_count": 36,
   "metadata": {},
   "outputs": [
    {
     "name": "stdout",
     "output_type": "stream",
     "text": [
      "Jan\n",
      "Feb\n",
      "Mar\n"
     ]
    }
   ],
   "source": [
    "lst= ['January', 'February', 'March']\n",
    "for i in lst:\n",
    "    print(i[:3])"
   ]
  },
  {
   "cell_type": "markdown",
   "metadata": {},
   "source": [
    "# 3.21\n",
    "Write a for loop that iterates over a list of numbers lst and prints the even numbers\n",
    "in the list. For example, if lst is [2, 3, 4, 5, 6, 7, 8, 9], then the numbers 2, 4, 6,\n",
    "and 8 should be printed."
   ]
  },
  {
   "cell_type": "code",
   "execution_count": 37,
   "metadata": {},
   "outputs": [
    {
     "name": "stdout",
     "output_type": "stream",
     "text": [
      "2\n",
      "4\n",
      "6\n",
      "8\n"
     ]
    }
   ],
   "source": [
    "even=[2,3,4,5,6,7,8,9]\n",
    "for i in range(2,9,2):\n",
    "    print(i)\n",
    "    "
   ]
  },
  {
   "cell_type": "markdown",
   "metadata": {},
   "source": [
    "# 3.22\n",
    "Write a for loop that iterates over a list of numbers lst and prints the numbers in the\n",
    "list whose square is divisible by 8. For example, if lst is [2, 3, 4, 5, 6, 7, 8, 9],\n",
    "then the numbers 4 and 8 should be printed.\n"
   ]
  },
  {
   "cell_type": "code",
   "execution_count": 38,
   "metadata": {},
   "outputs": [
    {
     "name": "stdout",
     "output_type": "stream",
     "text": [
      "4\n",
      "8\n"
     ]
    }
   ],
   "source": [
    "odd=[2,3,4,5,6,7,8,9]\n",
    "for i in range(4,9,4):\n",
    "    print(i)"
   ]
  },
  {
   "cell_type": "markdown",
   "metadata": {},
   "source": [
    "# 3.23\n",
    "Write for loops that use the function range() and print the following sequences:\n",
    "(a) 0 1\n",
    "(b) 0\n",
    "(c) 3 4 5 6\n",
    "(d) 1\n",
    "(e) 0 3\n",
    "(f) 5 9 13 17 21"
   ]
  },
  {
   "cell_type": "code",
   "execution_count": 39,
   "metadata": {},
   "outputs": [
    {
     "name": "stdout",
     "output_type": "stream",
     "text": [
      "0\n",
      "1\n"
     ]
    }
   ],
   "source": [
    "lst=[0, 1, 2, 3, 4, 5, 6, 7, 8, 9, 10, 11, 12, 13, 14, 15, 16, 17, 18, 19, 20, 21,22]\n",
    "for i in range(0,2,1):\n",
    "    print (i)\n"
   ]
  },
  {
   "cell_type": "code",
   "execution_count": 40,
   "metadata": {},
   "outputs": [
    {
     "name": "stdout",
     "output_type": "stream",
     "text": [
      "0\n"
     ]
    }
   ],
   "source": [
    "for i in range(0,1,1):\n",
    "    print(i)"
   ]
  },
  {
   "cell_type": "code",
   "execution_count": 41,
   "metadata": {},
   "outputs": [
    {
     "name": "stdout",
     "output_type": "stream",
     "text": [
      "3\n",
      "4\n",
      "5\n",
      "6\n"
     ]
    }
   ],
   "source": [
    "for i in range(3,7,1):\n",
    "    print(i)"
   ]
  },
  {
   "cell_type": "code",
   "execution_count": 42,
   "metadata": {},
   "outputs": [
    {
     "name": "stdout",
     "output_type": "stream",
     "text": [
      "0\n",
      "3\n"
     ]
    }
   ],
   "source": [
    "for i in range(0,4,3):\n",
    "    print(i)"
   ]
  },
  {
   "cell_type": "code",
   "execution_count": 43,
   "metadata": {},
   "outputs": [
    {
     "name": "stdout",
     "output_type": "stream",
     "text": [
      "5\n",
      "9\n",
      "13\n",
      "17\n",
      "21\n"
     ]
    }
   ],
   "source": [
    "for i in range(5,22,4):\n",
    "    print(i)"
   ]
  },
  {
   "cell_type": "markdown",
   "metadata": {},
   "source": [
    "# Problems "
   ]
  },
  {
   "cell_type": "markdown",
   "metadata": {},
   "source": [
    "# 3.24\n",
    "Implement a program that requests a list of words from the user and then prints each\n",
    "word in the list that is not 'secret'.\n",
    "\n"
   ]
  },
  {
   "cell_type": "code",
   "execution_count": 45,
   "metadata": {},
   "outputs": [
    {
     "name": "stdout",
     "output_type": "stream",
     "text": [
      "Enter some words: maize, field secret score sharp\n",
      "maize,\n",
      "field\n",
      "score\n",
      "sharp\n"
     ]
    }
   ],
   "source": [
    "lst=(input(\"Enter some words: \").split())\n",
    "for i in lst:\n",
    "    if i == 'secret':\n",
    "        continue\n",
    "    else:\n",
    "        print (i)"
   ]
  },
  {
   "cell_type": "markdown",
   "metadata": {},
   "source": [
    "# 3.25 \n",
    "Implement a program that requests a list of student names from the user and prints\n",
    "those names that start with letters A through M.\n"
   ]
  },
  {
   "cell_type": "code",
   "execution_count": 46,
   "metadata": {},
   "outputs": [
    {
     "name": "stdout",
     "output_type": "stream",
     "text": [
      "Enter student's names: ahmed sana ali mirza mona sara\n",
      "ahmed\n",
      "ali\n",
      "mirza\n",
      "mona\n"
     ]
    }
   ],
   "source": [
    "lst=input(\"Enter student's names: \").split()\n",
    "for i in lst:\n",
    "    if i.startswith(\"a\"):\n",
    "        print(i)\n",
    "    elif i.startswith(\"m\"):\n",
    "        print(i)\n",
    "    else:\n",
    "        continue\n",
    "        "
   ]
  },
  {
   "cell_type": "markdown",
   "metadata": {},
   "source": [
    "# 3.26 \n",
    "Implement a program that requests a nonempty list from the user and prints on the\n",
    "screen a message giving the first and last element of the list."
   ]
  },
  {
   "cell_type": "code",
   "execution_count": null,
   "metadata": {},
   "outputs": [],
   "source": [
    "lst=(input(\"Ënter a list of numbers \").split())\n",
    "for i in lst[0:1]:\n",
    "    print(\"The first number is\", i[0:1])\n",
    "for i in lst[-1:]:\n",
    "     print(\"The last number is\", i[-1:])\n",
    "        \n",
    "    "
   ]
  },
  {
   "cell_type": "markdown",
   "metadata": {},
   "source": [
    "# 3.27 \n",
    "Implement a program that requests a positive integer n from the user and prints the\n",
    "first four multiples of n.\n",
    "\n"
   ]
  },
  {
   "cell_type": "code",
   "execution_count": 47,
   "metadata": {},
   "outputs": [
    {
     "name": "stdout",
     "output_type": "stream",
     "text": [
      "Ënter a number 5\n",
      "5\n",
      "10\n",
      "15\n",
      "20\n"
     ]
    }
   ],
   "source": [
    "num=int(input(\"Ënter a number \"))\n",
    "\n",
    "print(num*1)\n",
    "print(num*2)\n",
    "print(num*3)\n",
    "print(num*4)"
   ]
  },
  {
   "cell_type": "markdown",
   "metadata": {},
   "source": [
    "# 3.28\n",
    "Implement a program that requests an integer n from the user and prints on the screen\n",
    "the squares of all numbers from 0 up to, but not including, n.\n"
   ]
  },
  {
   "cell_type": "code",
   "execution_count": 48,
   "metadata": {
    "scrolled": true
   },
   "outputs": [
    {
     "name": "stdout",
     "output_type": "stream",
     "text": [
      "49\n",
      "0\n",
      "1\n",
      "4\n",
      "9\n",
      "16\n",
      "25\n",
      "36\n"
     ]
    }
   ],
   "source": [
    "n=int(input())\n",
    "for i in range(0,n):\n",
    "    a = i**2\n",
    "    if a >= n:\n",
    "        break\n",
    "    print(a)"
   ]
  },
  {
   "cell_type": "markdown",
   "metadata": {},
   "source": [
    "# 3.29\n",
    "Implement a program that requests a positive integer n and prints on the screen all the\n",
    "positive divisors of n. Note: 0 is not a divisor of any integer, and n divides itself."
   ]
  },
  {
   "cell_type": "code",
   "execution_count": 49,
   "metadata": {
    "scrolled": true
   },
   "outputs": [
    {
     "name": "stdout",
     "output_type": "stream",
     "text": [
      "Enter a number: 100\n",
      "1\n",
      "2\n",
      "4\n",
      "5\n",
      "10\n",
      "20\n",
      "25\n",
      "50\n",
      "100\n"
     ]
    }
   ],
   "source": [
    "n=int(input(\"Enter a number: \")) \n",
    "i = 1\n",
    "while i <= n : \n",
    "    if (n % i==0) : \n",
    "        print (i) \n",
    "    i = i + 1"
   ]
  },
  {
   "cell_type": "markdown",
   "metadata": {},
   "source": [
    "# 3.30 \n",
    "Implement a program that requests four numbers (integer or floating-point) from the\n",
    "user. Your program should compute the average of the first three numbers and compare the\n",
    "average to the fourth number. If they are equal, your program should print 'Equal' on the\n",
    "screen."
   ]
  },
  {
   "cell_type": "code",
   "execution_count": 51,
   "metadata": {},
   "outputs": [
    {
     "name": "stdout",
     "output_type": "stream",
     "text": [
      "Enter first number: 2\n",
      "Enter second number: 3\n",
      "Enter third number: 4\n",
      "Enter last number: 3\n",
      "Equal\n"
     ]
    }
   ],
   "source": [
    "n1 = eval(input(\"Enter first number: \" ))\n",
    "n2 = eval(input(\"Enter second number: \" ))\n",
    "n3 = eval(input(\"Enter third number: \" ))\n",
    "n4 = eval(input(\"Enter last number: \" ))\n",
    "if (n1+n2+n3)/3 == n4:\n",
    "    print(\"Equal\")"
   ]
  },
  {
   "cell_type": "markdown",
   "metadata": {},
   "source": [
    "# 3.31\n",
    "Implement a program that requests the user to enter the x and y coordinates (each\n",
    "between −10 and 10) of a dart and computes whether the dart has hit the dartboard, a circle\n",
    "with center (0, 0) and radius 8. If so, string It is in! should be printed on the screen."
   ]
  },
  {
   "cell_type": "code",
   "execution_count": 52,
   "metadata": {},
   "outputs": [
    {
     "name": "stdout",
     "output_type": "stream",
     "text": [
      "Ënter the x co-ordinate: 5\n",
      "Ënter the y co-ordinate: 3\n",
      "It is in!\n"
     ]
    }
   ],
   "source": [
    "x=eval(input(\"Ënter the x co-ordinate: \"))\n",
    "y=eval(input(\"Ënter the y co-ordinate: \"))\n",
    "if x**2 + y**2 < 8**2 :\n",
    "    print(\"It is in!\")"
   ]
  },
  {
   "cell_type": "markdown",
   "metadata": {},
   "source": [
    "# 3.32\n",
    "Write a program that requests a positive four-digit integer from the user and prints its\n",
    "digits. You are not allowed to use the string data type operations to do this task. Your program should simply read the input as an integer and process it as an integer, using standard\n",
    "arithmetic operations (+, *, -, /, %, etc)."
   ]
  },
  {
   "cell_type": "code",
   "execution_count": 53,
   "metadata": {},
   "outputs": [
    {
     "name": "stdout",
     "output_type": "stream",
     "text": [
      "'Enter a 4-digit number:'6543\n",
      "6\n",
      "5\n",
      "4\n",
      "3\n"
     ]
    }
   ],
   "source": [
    "def integer():\n",
    "    num=(input(\"'Enter a 4-digit number:'\"))\n",
    "    for i in num:\n",
    "         print(\"{0}\".format(i))\n",
    "integer()\n"
   ]
  },
  {
   "cell_type": "markdown",
   "metadata": {},
   "source": [
    "# 3.33 \n",
    "Implement function reverse_string() that takes as input a three-letter string and\n",
    "returns the string with its characters reversed.\n"
   ]
  },
  {
   "cell_type": "code",
   "execution_count": 54,
   "metadata": {},
   "outputs": [
    {
     "name": "stdout",
     "output_type": "stream",
     "text": [
      "Enter a 3-letter word: pit\n",
      "tip\n"
     ]
    }
   ],
   "source": [
    "def reverse_string():\n",
    "    string=(input(\"Enter a 3-letter word: \"))\n",
    "    print(string[::-1])\n",
    "reverse_string()"
   ]
  },
  {
   "cell_type": "markdown",
   "metadata": {},
   "source": [
    "# 3.34\n",
    "Implement function pay() that takes as input two arguments: an hourly wage and the\n",
    "number of hours an employee worked in the last week. Your function should compute and\n",
    "return the employee’s pay. Any hours worked beyond 40 is overtime and should be paid at\n",
    "1.5 times the regular hourly wage."
   ]
  },
  {
   "cell_type": "code",
   "execution_count": 55,
   "metadata": {
    "scrolled": true
   },
   "outputs": [
    {
     "name": "stdout",
     "output_type": "stream",
     "text": [
      "Enter your hourly wage: 30\n",
      "Enter number of hours you've worked: 46\n",
      "Your pay for this month is:  1470.0\n"
     ]
    }
   ],
   "source": [
    "def pay(h_w, n_h):\n",
    "    h_w=eval(input(\"Enter your hourly wage: \"))\n",
    "    n_h=eval(input(\"Enter number of hours you've worked: \"))\n",
    "    if n_h > 40 :\n",
    "        payment=0\n",
    "        payment=payment + (n_h-40)*h_w*1.5\n",
    "        payment = payment + (40)*h_w\n",
    "        print(\"Your pay for this month is: \", payment)\n",
    "    else:\n",
    "        payment=payment*h_w\n",
    "pay('h_w' , 'n_h')    "
   ]
  },
  {
   "cell_type": "markdown",
   "metadata": {},
   "source": [
    "# 3.35\n",
    "The probability of getting n heads in a row when tossing a fair coin n times is 2\n",
    "−n.\n",
    "Implement function prob() that takes a nonnegative integer n as input and returns the\n",
    "probability of n heads in a row when tossing a fair coin n times."
   ]
  },
  {
   "cell_type": "code",
   "execution_count": 56,
   "metadata": {},
   "outputs": [
    {
     "name": "stdout",
     "output_type": "stream",
     "text": [
      "Insert a number: 3\n"
     ]
    }
   ],
   "source": [
    "def prob():\n",
    "    num=int(input(\"Insert a number: \"))\n",
    "    num**2\n",
    "prob()"
   ]
  },
  {
   "cell_type": "markdown",
   "metadata": {},
   "source": [
    "# 3.36\n",
    "Implement function reverse_int() that takes a three-digit integer as input and returns the integer obtained by reversing its digits. For example, if the input is 123, your\n",
    "function should return 321. You are not allowed to use the string data type operations to\n",
    "do this task. Your program should simply read the input as an integer and process it as an\n",
    "integer using operators such as // and %. You may assume that the input integer does not\n",
    "end with the 0 digit"
   ]
  },
  {
   "cell_type": "code",
   "execution_count": 57,
   "metadata": {},
   "outputs": [
    {
     "name": "stdout",
     "output_type": "stream",
     "text": [
      "Enter a 3-digit number: 345\n",
      "543\n"
     ]
    }
   ],
   "source": [
    "def reverse_int():\n",
    "    num=(input(\"Enter a 3-digit number: \"))\n",
    "    print (num[::-1])\n",
    "reverse_int()"
   ]
  },
  {
   "cell_type": "markdown",
   "metadata": {},
   "source": [
    "# 3.37\n",
    "Implement function points() that takes as input four numbers x1, y1, x2, y2 that\n",
    "are the coordinates of two points (x1, y1) and (x2, y2) in the plane. Your function should\n",
    "compute:\n",
    "• The slope of the line going through the points, unless the line is vertical\n",
    "• The distance between the two points\n"
   ]
  },
  {
   "cell_type": "code",
   "execution_count": 58,
   "metadata": {},
   "outputs": [
    {
     "name": "stdout",
     "output_type": "stream",
     "text": [
      "Input x1: 6\n",
      "Input x2: 4\n",
      "Input y1: 5\n",
      "Input y2: 3\n",
      "The slope of two points is:  1.0\n",
      "The distance of between the two points are:  1.0\n"
     ]
    }
   ],
   "source": [
    "def points():\n",
    "    import math\n",
    "    x1=int(input(\"Input x1: \"))\n",
    "    x2=int(input(\"Input x2: \"))\n",
    "    y1=int(input(\"Input y1: \"))\n",
    "    y2=int(input(\"Input y2: \"))\n",
    "    m=(y2-y1)/(x2-x1)\n",
    "    if x1==x2:\n",
    "        pass\n",
    "    else:\n",
    "        print (\"The slope of two points is: \",m)\n",
    "    d=(math.sqrt((x1-x2)**2+(y1-y2)**2))\n",
    "    if d==0:\n",
    "        pass\n",
    "    else:\n",
    "        print (\"The distance of between the two points are: \",m)\n",
    "points() "
   ]
  },
  {
   "cell_type": "markdown",
   "metadata": {},
   "source": [
    "# 3.38 \n",
    "Implement function abbreviation() that takes a day of the week as input and returns\n",
    "its two-letter abbreviation.\n"
   ]
  },
  {
   "cell_type": "code",
   "execution_count": 59,
   "metadata": {},
   "outputs": [
    {
     "name": "stdout",
     "output_type": "stream",
     "text": [
      "Enter the name of a day: wednesday\n",
      "we\n"
     ]
    }
   ],
   "source": [
    "def abbreviation():\n",
    "    day=input(\"Enter the name of a day: \")\n",
    "    print(day[0:2])\n",
    "abbreviation()"
   ]
  },
  {
   "cell_type": "markdown",
   "metadata": {},
   "source": [
    "# 3.39 \n",
    "The computer game function collision() checks whether two circular objects collide; it returns True if they do and False otherwise. Each circular object will be given by\n",
    "its radius and the (x, y) coordinates of its center. Thus the function will take six numbers\n",
    "as input: the coordinates x1 and y1 of the center and the radius r1 of the first circle, and the\n",
    "coordinates x2 and y2 of the center and the radius r2 of the second circle"
   ]
  },
  {
   "cell_type": "code",
   "execution_count": 60,
   "metadata": {},
   "outputs": [
    {
     "name": "stdout",
     "output_type": "stream",
     "text": [
      "Enter x1 co-ordinate: 5\n",
      "Enter x2 co-ordinate: 4\n",
      "Enter y1 co-ordinate: 3\n",
      "Enter y2 co-ordinate: 6\n",
      "Enter radius 1: 3\n",
      "Enter radius 2: 6\n",
      "The collision of the two objects is:  3.1622776601683795\n"
     ]
    },
    {
     "data": {
      "text/plain": [
       "True"
      ]
     },
     "execution_count": 60,
     "metadata": {},
     "output_type": "execute_result"
    }
   ],
   "source": [
    "def collision():\n",
    "    x1=eval(input(\"Enter x1 co-ordinate: \"))\n",
    "    x2=eval(input(\"Enter x2 co-ordinate: \"))\n",
    "    y1=eval(input(\"Enter y1 co-ordinate: \"))\n",
    "    y2=eval(input(\"Enter y2 co-ordinate: \"))\n",
    "    r1=eval(input(\"Enter radius 1: \"))\n",
    "    r2=eval(input(\"Enter radius 2: \"))\n",
    "    from math import sqrt\n",
    "    res=sqrt((x1-x2)**2+(y1-y2)**2) \n",
    "    print (\"The collision of the two objects is: \", res)\n",
    "    if res > r1+r2:\n",
    "        return False\n",
    "    else:\n",
    "        return True\n",
    "collision()"
   ]
  },
  {
   "cell_type": "markdown",
   "metadata": {},
   "source": [
    "# 3.40\n",
    "Write function lastF() that takes as input two strings of the form 'FirstName' and\n",
    "'LastName', respectively, and returns a string of the form 'LastName, F.'. (Only the\n",
    "initial should be output for the first name.)"
   ]
  },
  {
   "cell_type": "code",
   "execution_count": 61,
   "metadata": {},
   "outputs": [
    {
     "name": "stdout",
     "output_type": "stream",
     "text": [
      "Enter your first name: Filza\n",
      "Enter your last name: Manzoor\n",
      "Manzoor, F\n"
     ]
    }
   ],
   "source": [
    "def lastF():\n",
    "    f_name=(input(\"Enter your first name: \"))\n",
    "    l_name=(input(\"Enter your last name: \"))\n",
    "    print(l_name + \", \" + f_name[0:1])\n",
    "lastF()"
   ]
  },
  {
   "cell_type": "markdown",
   "metadata": {},
   "source": [
    "# 3.41\n",
    "Implement function avg() that takes as input a list that contains lists of numbers. Each\n",
    "number list represents the grades a particular student received for a course. For example,\n",
    "here is an input list for a class of four students:\n",
    "[[95, 92, 86, 87], [66, 54], [89, 72, 100], [33, 0, 0]]\n",
    "The function avg should print, one per line, every student’s average grade. You may assume\n",
    "that every list of grades is nonempty, but you may not assume that every student has the same\n",
    "number of grades.\n",
    " "
   ]
  },
  {
   "cell_type": "code",
   "execution_count": 63,
   "metadata": {},
   "outputs": [
    {
     "name": "stdout",
     "output_type": "stream",
     "text": [
      "Enter marks of your 3 subjects: 33,0,0\n",
      "Enter marks of your 3 subjects: 95,92,86\n",
      "Enter marks of your 3 subjects: 87,90, 54\n",
      "Enter marks of your 3 subjects: 66,74,38\n",
      "11.0\n",
      "91.0\n",
      "77.0\n",
      "59.333333333333336\n"
     ]
    }
   ],
   "source": [
    "def avg():\n",
    "    g1=eval(input(\"Enter marks of your 3 subjects: \"))\n",
    "    g2=eval(input(\"Enter marks of your 3 subjects: \"))\n",
    "    g3=eval(input(\"Enter marks of your 3 subjects: \"))\n",
    "    g4=eval(input(\"Enter marks of your 3 subjects: \"))\n",
    "    x=[g1,g2,g3,g4]\n",
    "    for i in x[:1]:\n",
    "        print((sum(g1)/len(g1)))\n",
    "    for i in x[1:2]:\n",
    "        print((sum(g2)/len(g2)))\n",
    "    for i in x[2:3]:\n",
    "        print((sum(g3)/len(g3)))\n",
    "    for i in x[3:4]:\n",
    "        print((sum(g4)/len(g4)))\n",
    "avg()\n"
   ]
  },
  {
   "cell_type": "markdown",
   "metadata": {},
   "source": [
    "# 3.42\n",
    "The computer game function hit() takes five numbers as input: the x and y coordinates of the center and the radius of a circle C, and the x and y coordinates of a point P.\n",
    "The function should return True if point P is inside or on circle C and False otherwise.\n",
    "\n"
   ]
  },
  {
   "cell_type": "code",
   "execution_count": 64,
   "metadata": {},
   "outputs": [
    {
     "name": "stdout",
     "output_type": "stream",
     "text": [
      "Enter x1 co-ordinate: 5\n",
      "Enter x2 co-ordinate: 4\n",
      "Enter y1 co-ordinate: 6\n",
      "Enter y2 co-ordinate: 3\n",
      "Enter radius 1: 7\n",
      "The collision of the two objects is:  3.1622776601683795\n"
     ]
    },
    {
     "data": {
      "text/plain": [
       "True"
      ]
     },
     "execution_count": 64,
     "metadata": {},
     "output_type": "execute_result"
    }
   ],
   "source": [
    "def hit():\n",
    "    xC=eval(input(\"Enter x1 co-ordinate: \"))\n",
    "    xP=eval(input(\"Enter x2 co-ordinate: \"))\n",
    "    yC=eval(input(\"Enter y1 co-ordinate: \"))\n",
    "    yP=eval(input(\"Enter y2 co-ordinate: \"))\n",
    "    rC=eval(input(\"Enter radius 1: \"))\n",
    "    from math import sqrt\n",
    "    res=sqrt((xC-xP)**2+(yC-yP)**2) \n",
    "    print (\"The collision of the two objects is: \", res)\n",
    "    if res > rC:\n",
    "        return False\n",
    "    else:\n",
    "        return True\n",
    "hit()"
   ]
  },
  {
   "cell_type": "markdown",
   "metadata": {},
   "source": [
    "# 3.43\n",
    "Write a function distance() that takes as input a number: the time elapsed (in seconds) between the flash and the sound of thunder. Your function should return the distance\n",
    "to the lightning strike in kilometers. The speed of sound is approximately 340.29 meters per\n",
    "second; there are 1000 meters in one kilometer.\n"
   ]
  },
  {
   "cell_type": "code",
   "execution_count": 65,
   "metadata": {},
   "outputs": [
    {
     "name": "stdout",
     "output_type": "stream",
     "text": [
      "Enter a number: 5\n",
      "1.7014500000000001 sec\n"
     ]
    }
   ],
   "source": [
    "def distance():\n",
    "    num=eval(input(\"Enter a number: \"))\n",
    "    res=num*340.29/1000\n",
    "    print(res , \"sec\")\n",
    "distance()"
   ]
  },
  {
   "cell_type": "code",
   "execution_count": null,
   "metadata": {},
   "outputs": [],
   "source": []
  }
 ],
 "metadata": {
  "kernelspec": {
   "display_name": "Python 3",
   "language": "python",
   "name": "python3"
  },
  "language_info": {
   "codemirror_mode": {
    "name": "ipython",
    "version": 3
   },
   "file_extension": ".py",
   "mimetype": "text/x-python",
   "name": "python",
   "nbconvert_exporter": "python",
   "pygments_lexer": "ipython3",
   "version": "3.7.3"
  }
 },
 "nbformat": 4,
 "nbformat_minor": 2
}
